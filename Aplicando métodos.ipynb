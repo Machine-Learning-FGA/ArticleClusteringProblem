{
 "cells": [
  {
   "cell_type": "markdown",
   "metadata": {},
   "source": [
    "### Resumo\n",
    "\n",
    "Esse notebook tem como objetivo aplicar os seguintes algoritmos e avalia-los\n",
    " - MeanShitf\n",
    " - KMeans\n",
    " - Gaussian Mixture Models\n",
    " "
   ]
  },
  {
   "cell_type": "code",
   "execution_count": 1,
   "metadata": {
    "collapsed": true
   },
   "outputs": [],
   "source": [
    "import pandas as pd\n",
    "import numpy as np "
   ]
  },
  {
   "cell_type": "code",
   "execution_count": 2,
   "metadata": {
    "collapsed": true
   },
   "outputs": [],
   "source": [
    "data = pd.read_csv('data_remake.csv')"
   ]
  },
  {
   "cell_type": "code",
   "execution_count": 3,
   "metadata": {},
   "outputs": [
    {
     "data": {
      "text/plain": [
       "(5811, 5986)"
      ]
     },
     "execution_count": 3,
     "metadata": {},
     "output_type": "execute_result"
    }
   ],
   "source": [
    "data.head()\n",
    "data.shape"
   ]
  },
  {
   "cell_type": "markdown",
   "metadata": {},
   "source": [
    "## Avaliação do KMeans"
   ]
  },
  {
   "cell_type": "code",
   "execution_count": 4,
   "metadata": {
    "collapsed": true
   },
   "outputs": [],
   "source": [
    "# É um método que que calcula o erro quadrático entre a média e o dado, o melhor k seria aquele que forma um \n",
    "# \"cotovelo\".\n",
    "\n",
    "import matplotlib.pyplot as plt\n",
    "from sklearn.metrics import silhouette_score\n",
    "from sklearn.metrics import calinski_harabaz_score\n",
    "from sklearn.cluster import KMeans\n",
    "\n",
    "def kmeans_analysis(input_data, tot_range=[1,20]):\n",
    "        \"\"\"\n",
    "            Método que realiza algumas análises estatísticas do KMeans\n",
    "            \n",
    "        \"\"\"\n",
    "        \n",
    "        erro = []\n",
    "        silhueta = []\n",
    "        calinski = []\n",
    "        \n",
    "        # Realiza para todos os k \n",
    "        for k in range(tot_range[0], tot_range[1]+1):\n",
    "            modelo = KMeans(n_clusters=k).fit(input_data)\n",
    "            \n",
    "            # Inertia\n",
    "            erro.append(modelo.inertia_)\n",
    "            \n",
    "            # Silhueta\n",
    "            silhueta.append( silhouette_score(input_data, modelo.labels_) )\n",
    "            \n",
    "            # Calinski\n",
    "            calinski.append( calinski_harabaz_score(input_data, modelo.labels_) )\n",
    "        \n",
    "\n",
    "        \n",
    "        # Plot do Elbow Method\n",
    "        plt.figure(1)\n",
    "        \n",
    "        plt.xlabel('Clusters')\n",
    "        plt.ylabel('Inertia')\n",
    "        plt.grid(True)\n",
    "        \n",
    "        plt.plot( range(tot_range[0], tot_range[1]+1), erro, c='blue')\n",
    "        plt.scatter(range(tot_range[0], tot_range[1]+1), erro, c='red')\n",
    "    \n",
    "        plt.figure(2)\n",
    "        plt.title('Silhueta')\n",
    "        \n",
    "        plt.xlabel('Clusters')\n",
    "        plt.ylabel('Silhueta')\n",
    "        plt.grid(True)\n",
    "        \n",
    "        plt.plot(range(tot_range[0], tot_range[1]+1), silhueta )\n",
    "        \n",
    "        plt.figure(3)\n",
    "        plt.xlabel('Clusters')\n",
    "        plt.ylabel('Y')\n",
    "        plt.grid(True)\n",
    "        plt.plot(range(tot_range[0], tot_range[1]+1), calinski)\n",
    "        \n",
    "        plt.show()"
   ]
  },
  {
   "cell_type": "markdown",
   "metadata": {},
   "source": [
    "### Avaliação do kmeans"
   ]
  },
  {
   "cell_type": "markdown",
   "metadata": {},
   "source": [
    "#### Silhueta"
   ]
  },
  {
   "cell_type": "code",
   "execution_count": null,
   "metadata": {},
   "outputs": [],
   "source": [
    "kmeans_analysis(data.iloc[:, 1:500], [2,40])"
   ]
  }
 ],
 "metadata": {
  "kernelspec": {
   "display_name": "ml",
   "language": "python",
   "name": "ml"
  },
  "language_info": {
   "codemirror_mode": {
    "name": "ipython",
    "version": 3
   },
   "file_extension": ".py",
   "mimetype": "text/x-python",
   "name": "python",
   "nbconvert_exporter": "python",
   "pygments_lexer": "ipython3",
   "version": "3.5.2"
  }
 },
 "nbformat": 4,
 "nbformat_minor": 2
}
